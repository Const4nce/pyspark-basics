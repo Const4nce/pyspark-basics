{
 "cells": [
  {
   "cell_type": "markdown",
   "metadata": {},
   "source": [
    "# Pyspark Basic Functions"
   ]
  },
  {
   "cell_type": "markdown",
   "metadata": {},
   "source": [
    "Download Spark and PySpark if not already installed"
   ]
  },
  {
   "cell_type": "code",
   "execution_count": null,
   "metadata": {},
   "outputs": [],
   "source": [
    "##uncomment code to install\n",
    "\n",
    "#!pip install spark\n",
    "#!pip install pyspark"
   ]
  },
  {
   "cell_type": "code",
   "execution_count": 1,
   "metadata": {},
   "outputs": [],
   "source": [
    "import spark\n",
    "import pyspark\n",
    "from pyspark.sql import SparkSession\n",
    "import pyspark.sql.types as t\n",
    "from pyspark import SQLContext\n",
    "import pyspark.sql.functions as f\n",
    "from pyspark.sql.window import Window\n",
    "from pyspark.sql.functions import row_number\n"
   ]
  },
  {
   "cell_type": "code",
   "execution_count": 2,
   "metadata": {},
   "outputs": [],
   "source": [
    "#suppress warnings\n",
    "\n",
    "import warnings\n",
    "warnings.filterwarnings(\"ignore\")\n"
   ]
  },
  {
   "cell_type": "code",
   "execution_count": 3,
   "metadata": {},
   "outputs": [],
   "source": [
    "spark_context = SparkSession.builder.getOrCreate()\n",
    "sqlcontext = SQLContext(spark_context)\n",
    "\n",
    "#remove warnings ????????????????????????"
   ]
  },
  {
   "cell_type": "markdown",
   "metadata": {},
   "source": [
    "### Create Sample Dataframes"
   ]
  },
  {
   "cell_type": "code",
   "execution_count": 4,
   "metadata": {},
   "outputs": [
    {
     "name": "stdout",
     "output_type": "stream",
     "text": [
      "+---+----------+------+------------------------------------+----------+\n",
      "|id |town      |salary|texting                             |start_week|\n",
      "+---+----------+------+------------------------------------+----------+\n",
      "|190|Leiden    |2166  |I like my ring                      |2019_01   |\n",
      "|99 |Amersfoort|9211  |Why are you glaring at me?          |2019_05   |\n",
      "|329|Leiden    |8794  |Singing in the rain                 |2019_08   |\n",
      "|294|Woerden   |5813  |Christmas was fairylike             |2019_02   |\n",
      "|199|Amersfoort|2365  |A ring for my wife                  |2019_10   |\n",
      "|904|Delft     |2921  |I need some fresh air               |2019_32   |\n",
      "|242|Amersfoort|2635  |I am browsing the internet          |2019_25   |\n",
      "|367|Leiden    |1947  |The airfares are very expensive     |2019_44   |\n",
      "|357|Dordrecht |4899  |The bell is ringing                 |2019_28   |\n",
      "|278|Woerden   |4495  |The air is very poluted             |2019_04   |\n",
      "|102|Leiden    |4907  |I would love to sing                |2019_18   |\n",
      "|490|Woerden   |1778  |I need a new hairbrush              |2019_37   |\n",
      "|711|Amersfoort|5397  |Why am I singled out?               |2019_21   |\n",
      "|796|Delft     |6874  |Love is in the air                  |2019_15   |\n",
      "|39 |Leiden    |5628  |This food is mouthwatering          |2019_07   |\n",
      "|953|Delft     |1395  |You are singing                     |2019_11   |\n",
      "|55 |Leiden    |9403  |His wife has an affair              |2019_35   |\n",
      "|70 |Dordrecht |5500  |I love to sing in the rain          |2019_14   |\n",
      "|33 |Amersfoort|4500  |It is great to breath some fresh air|2019_23   |\n",
      "|100|Woerden   |4406  |Why are you refusing?               |2019_09   |\n",
      "+---+----------+------+------------------------------------+----------+\n",
      "\n"
     ]
    }
   ],
   "source": [
    "#create a user dataframe\n",
    "\n",
    "# Setup the Schema\n",
    "schema = t.StructType([\n",
    "    t.StructField(\"id\", t.StringType(),True),\n",
    "    t.StructField(\"town\", t.StringType(),True),\n",
    "    t.StructField(\"salary\", t.IntegerType(),True),\n",
    "    t.StructField(\"texting\", t.StringType(),True),\n",
    "    t.StructField(\"start_week\", t.StringType(),True)\n",
    "\n",
    "])\n",
    "\n",
    "# Add Data\n",
    "data = (\n",
    "    [\n",
    "        ('190', 'Leiden', 2166, 'I like my ring','2019_01'),\n",
    "        ('99', 'Amersfoort', 9211, 'Why are you glaring at me?','2019_05'),\n",
    "        ('329', 'Leiden', 8794, 'Singing in the rain','2019_08'),\n",
    "        ('294', 'Woerden', 5813, 'Christmas was fairylike','2019_02'),\n",
    "        ('199', 'Amersfoort', 2365, 'A ring for my wife','2019_10'),\n",
    "        ('904', 'Delft', 2921, 'I need some fresh air','2019_32'),\n",
    "        ('242','Amersfoort', 2635, 'I am browsing the internet','2019_25'),\n",
    "        ('367','Leiden', 1947, 'The airfares are very expensive','2019_44'),\n",
    "        ('357','Dordrecht', 4899, 'The bell is ringing','2019_28'),\n",
    "        ('278','Woerden', 4495, 'The air is very poluted','2019_04'),\n",
    "        ('102','Leiden', 4907, 'I would love to sing','2019_18'),\n",
    "        ('490','Woerden', 1778, 'I need a new hairbrush','2019_37'),\n",
    "        ('711','Amersfoort', 5397, 'Why am I singled out?','2019_21'),\n",
    "        ('796','Delft', 6874, 'Love is in the air','2019_15'),\n",
    "        ('39','Leiden', 5628, 'This food is mouthwatering','2019_07'),\n",
    "        ('953','Delft', 1395, 'You are singing','2019_11'),\n",
    "        ('55','Leiden', 9403, 'His wife has an affair','2019_35'),\n",
    "        ('70','Dordrecht', 5500, \"I love to sing in the rain\",'2019_14'),\n",
    "        ('33','Amersfoort', 4500, \"It is great to breath some fresh air\",'2019_23'),\n",
    "        ('100','Woerden', 4406, 'Why are you refusing?','2019_09')\n",
    "    ]\n",
    ")\n",
    "\n",
    "# Setup the Data Frame\n",
    "df1 = sqlcontext.createDataFrame(data,schema=schema)\n",
    "df1.show(truncate=False)"
   ]
  },
  {
   "cell_type": "code",
   "execution_count": 5,
   "metadata": {},
   "outputs": [
    {
     "name": "stdout",
     "output_type": "stream",
     "text": [
      "root\n",
      " |-- id: string (nullable = true)\n",
      " |-- town: string (nullable = true)\n",
      " |-- salary: integer (nullable = true)\n",
      " |-- texting: string (nullable = true)\n",
      " |-- start_week: string (nullable = true)\n",
      "\n"
     ]
    }
   ],
   "source": [
    "df1.printSchema()"
   ]
  },
  {
   "cell_type": "code",
   "execution_count": 6,
   "metadata": {},
   "outputs": [
    {
     "name": "stdout",
     "output_type": "stream",
     "text": [
      "+---+---+-----+-----+\n",
      "|id |day|price|units|\n",
      "+---+---+-----+-----+\n",
      "|100|1  |23   |10   |\n",
      "|100|2  |45   |11   |\n",
      "|100|3  |67   |12   |\n",
      "|100|4  |78   |13   |\n",
      "|101|1  |23   |10   |\n",
      "|101|2  |45   |13   |\n",
      "|101|3  |67   |14   |\n",
      "|101|4  |78   |15   |\n",
      "|102|1  |23   |10   |\n",
      "|102|2  |45   |11   |\n",
      "|102|3  |67   |16   |\n",
      "|102|4  |78   |18   |\n",
      "+---+---+-----+-----+\n",
      "\n"
     ]
    }
   ],
   "source": [
    "#create second dataframe with more user data\n",
    "\n",
    "# Setup the Schema\n",
    "schema = t.StructType([\n",
    "    t.StructField(\"id\", t.StringType(),True),\n",
    "    t.StructField(\"day\", t.StringType(),True),\n",
    "    t.StructField(\"price\", t.IntegerType(),True),\n",
    "    t.StructField(\"units\", t.IntegerType(),True),\n",
    "])\n",
    "\n",
    "data2 = ([\n",
    "        ('100','1',23,10),\n",
    "        ('100','2',45,11),\n",
    "        ('100','3',67,12),\n",
    "        ('100','4',78,13),\n",
    "        ('101','1',23,10),\n",
    "        ('101','2',45,13),\n",
    "        ('101','3',67,14),\n",
    "        ('101','4',78,15),\n",
    "        ('102','1',23,10),\n",
    "        ('102','2',45,11),\n",
    "        ('102','3',67,16),\n",
    "        ('102','4',78,18),\n",
    "    ])\n",
    "\n",
    "# Setup the Data Frame\n",
    "df2 = sqlcontext.createDataFrame(data2,schema=schema)\n",
    "df2.show(truncate=False)"
   ]
  },
  {
   "cell_type": "code",
   "execution_count": 7,
   "metadata": {},
   "outputs": [
    {
     "name": "stdout",
     "output_type": "stream",
     "text": [
      "root\n",
      " |-- id: string (nullable = true)\n",
      " |-- day: string (nullable = true)\n",
      " |-- price: integer (nullable = true)\n",
      " |-- units: integer (nullable = true)\n",
      "\n"
     ]
    }
   ],
   "source": [
    "df2.printSchema()"
   ]
  },
  {
   "cell_type": "markdown",
   "metadata": {},
   "source": [
    "### Aggregation"
   ]
  },
  {
   "cell_type": "code",
   "execution_count": 8,
   "metadata": {},
   "outputs": [
    {
     "name": "stdout",
     "output_type": "stream",
     "text": [
      "+----------+----------+----------+----------+\n",
      "|      town|min_salary|max_salary|avg_salary|\n",
      "+----------+----------+----------+----------+\n",
      "|    Leiden|      1947|      9403|   5474.17|\n",
      "|Amersfoort|      2365|      9211|    4821.6|\n",
      "|   Woerden|      1778|      5813|    4123.0|\n",
      "|     Delft|      1395|      6874|    3730.0|\n",
      "| Dordrecht|      4899|      5500|    5199.5|\n",
      "+----------+----------+----------+----------+\n",
      "\n"
     ]
    }
   ],
   "source": [
    "stats = (\n",
    "    df1\n",
    "    .groupBy('town')\n",
    "    .agg(\n",
    "        f.min('salary').alias('min_salary'),\n",
    "        f.max('salary').alias('max_salary'),\n",
    "        f.round(f.avg('salary'),2).alias('avg_salary')\n",
    "        )\n",
    "    )\n",
    "\n",
    "stats.show()"
   ]
  },
  {
   "cell_type": "markdown",
   "metadata": {},
   "source": [
    "### Window Function"
   ]
  },
  {
   "cell_type": "code",
   "execution_count": 9,
   "metadata": {},
   "outputs": [
    {
     "name": "stdout",
     "output_type": "stream",
     "text": [
      "+---+----------+------+------------------------------------+----------+---------------+\n",
      "|id |town      |salary|texting                             |start_week|rolling_average|\n",
      "+---+----------+------+------------------------------------+----------+---------------+\n",
      "|99 |Amersfoort|9211  |Why are you glaring at me?          |2019_05   |9211.0         |\n",
      "|199|Amersfoort|2365  |A ring for my wife                  |2019_10   |5788.0         |\n",
      "|711|Amersfoort|5397  |Why am I singled out?               |2019_21   |5657.7         |\n",
      "|33 |Amersfoort|4500  |It is great to breath some fresh air|2019_23   |5368.3         |\n",
      "|242|Amersfoort|2635  |I am browsing the internet          |2019_25   |4821.6         |\n",
      "|953|Delft     |1395  |You are singing                     |2019_11   |1395.0         |\n",
      "|796|Delft     |6874  |Love is in the air                  |2019_15   |4134.5         |\n",
      "|904|Delft     |2921  |I need some fresh air               |2019_32   |3730.0         |\n",
      "|70 |Dordrecht |5500  |I love to sing in the rain          |2019_14   |5500.0         |\n",
      "|357|Dordrecht |4899  |The bell is ringing                 |2019_28   |5199.5         |\n",
      "|190|Leiden    |2166  |I like my ring                      |2019_01   |2166.0         |\n",
      "|39 |Leiden    |5628  |This food is mouthwatering          |2019_07   |3897.0         |\n",
      "|329|Leiden    |8794  |Singing in the rain                 |2019_08   |5529.3         |\n",
      "|102|Leiden    |4907  |I would love to sing                |2019_18   |5373.8         |\n",
      "|55 |Leiden    |9403  |His wife has an affair              |2019_35   |6179.6         |\n",
      "|367|Leiden    |1947  |The airfares are very expensive     |2019_44   |5474.2         |\n",
      "|294|Woerden   |5813  |Christmas was fairylike             |2019_02   |5813.0         |\n",
      "|278|Woerden   |4495  |The air is very poluted             |2019_04   |5154.0         |\n",
      "|100|Woerden   |4406  |Why are you refusing?               |2019_09   |4904.7         |\n",
      "|490|Woerden   |1778  |I need a new hairbrush              |2019_37   |4123.0         |\n",
      "+---+----------+------+------------------------------------+----------+---------------+\n",
      "\n"
     ]
    }
   ],
   "source": [
    "#calculate rolling average\n",
    "\n",
    "w = Window.partitionBy('town').orderBy('start_week')\n",
    "\n",
    "rolling_avg = (\n",
    "    df1\n",
    "    .withColumn('rolling_average' , f.round(f.avg('salary').over(w),1))\n",
    "    )\n",
    "    \n",
    "\n",
    "rolling_avg.show(truncate=False)    "
   ]
  },
  {
   "cell_type": "code",
   "execution_count": 10,
   "metadata": {},
   "outputs": [
    {
     "name": "stdout",
     "output_type": "stream",
     "text": [
      "+---+----------+------+--------------------+----------+-------+\n",
      "| id|      town|salary|             texting|start_week|row_num|\n",
      "+---+----------+------+--------------------+----------+-------+\n",
      "| 99|Amersfoort|  9211|Why are you glari...|   2019_05|      1|\n",
      "|199|Amersfoort|  2365|  A ring for my wife|   2019_10|      2|\n",
      "|711|Amersfoort|  5397|Why am I singled ...|   2019_21|      3|\n",
      "| 33|Amersfoort|  4500|It is great to br...|   2019_23|      4|\n",
      "|242|Amersfoort|  2635|I am browsing the...|   2019_25|      5|\n",
      "|953|     Delft|  1395|     You are singing|   2019_11|      1|\n",
      "|796|     Delft|  6874|  Love is in the air|   2019_15|      2|\n",
      "|904|     Delft|  2921|I need some fresh...|   2019_32|      3|\n",
      "| 70| Dordrecht|  5500|I love to sing in...|   2019_14|      1|\n",
      "|357| Dordrecht|  4899| The bell is ringing|   2019_28|      2|\n",
      "|190|    Leiden|  2166|      I like my ring|   2019_01|      1|\n",
      "| 39|    Leiden|  5628|This food is mout...|   2019_07|      2|\n",
      "|329|    Leiden|  8794| Singing in the rain|   2019_08|      3|\n",
      "|102|    Leiden|  4907|I would love to sing|   2019_18|      4|\n",
      "| 55|    Leiden|  9403|His wife has an a...|   2019_35|      5|\n",
      "|367|    Leiden|  1947|The airfares are ...|   2019_44|      6|\n",
      "|294|   Woerden|  5813|Christmas was fai...|   2019_02|      1|\n",
      "|278|   Woerden|  4495|The air is very p...|   2019_04|      2|\n",
      "|100|   Woerden|  4406|Why are you refus...|   2019_09|      3|\n",
      "|490|   Woerden|  1778|I need a new hair...|   2019_37|      4|\n",
      "+---+----------+------+--------------------+----------+-------+\n",
      "\n"
     ]
    }
   ],
   "source": [
    "#counting rows per town\n",
    "count_rows = df1.withColumn(\"row_num\", row_number().over(w))\n",
    "\n",
    "count_rows.show()"
   ]
  },
  {
   "cell_type": "markdown",
   "metadata": {},
   "source": [
    "### Regular Expressions"
   ]
  },
  {
   "cell_type": "code",
   "execution_count": 11,
   "metadata": {},
   "outputs": [
    {
     "name": "stdout",
     "output_type": "stream",
     "text": [
      "+---+------------------------------------+\n",
      "|id |texting                             |\n",
      "+---+------------------------------------+\n",
      "|190|I like my ring                      |\n",
      "|99 |Why are you glaring at me?          |\n",
      "|329|Singing in the rain                 |\n",
      "|294|Christmas was fairylike             |\n",
      "|199|A ring for my wife                  |\n",
      "|904|I need some fresh air               |\n",
      "|242|I am browsing the internet          |\n",
      "|367|The airfares are very expensive     |\n",
      "|357|The bell is ringing                 |\n",
      "|278|The air is very poluted             |\n",
      "|102|I would love to sing                |\n",
      "|490|I need a new hairbrush              |\n",
      "|711|Why am I singled out?               |\n",
      "|796|Love is in the air                  |\n",
      "|39 |This food is mouthwatering          |\n",
      "|953|You are singing                     |\n",
      "|55 |His wife has an affair              |\n",
      "|70 |I love to sing in the rain          |\n",
      "|33 |It is great to breath some fresh air|\n",
      "|100|Why are you refusing?               |\n",
      "+---+------------------------------------+\n",
      "\n",
      "Number of rows: 20\n"
     ]
    }
   ],
   "source": [
    "terms_list = ['ring', 'sing', 'air']\n",
    "terms = '|'.join(terms_list)\n",
    "#terms\n",
    "\n",
    "\n",
    "search_terms = (\n",
    "    df1\n",
    "    .where(f.lower(f.col('texting')).rlike(terms))\n",
    "    .select('id','texting')\n",
    "    )\n",
    "\n",
    "n_terms = search_terms.count()\n",
    "\n",
    "\n",
    "search_terms.show(truncate=False)\n",
    "print(f\"Number of rows: {n_terms}\")"
   ]
  },
  {
   "cell_type": "code",
   "execution_count": 12,
   "metadata": {},
   "outputs": [
    {
     "name": "stdout",
     "output_type": "stream",
     "text": [
      "+---+----------+------+------------------------------------+----------+\n",
      "|id |town      |salary|texting                             |start_week|\n",
      "+---+----------+------+------------------------------------+----------+\n",
      "|190|Leiden    |2166  |I like my ring                      |2019_01   |\n",
      "|199|Amersfoort|2365  |A ring for my wife                  |2019_10   |\n",
      "|904|Delft     |2921  |I need some fresh air               |2019_32   |\n",
      "|278|Woerden   |4495  |The air is very poluted             |2019_04   |\n",
      "|102|Leiden    |4907  |I would love to sing                |2019_18   |\n",
      "|796|Delft     |6874  |Love is in the air                  |2019_15   |\n",
      "|70 |Dordrecht |5500  |I love to sing in the rain          |2019_14   |\n",
      "|33 |Amersfoort|4500  |It is great to breath some fresh air|2019_23   |\n",
      "+---+----------+------+------------------------------------+----------+\n",
      "\n",
      "Number of rows: 8\n"
     ]
    }
   ],
   "source": [
    "#exact match\n",
    "\n",
    "def exact_match(items):\n",
    "    return [f\"\\\\b{item}\\\\b\" for item in items]\n",
    "\n",
    "exact_match_terms_list = exact_match(terms_list)\n",
    "exact_match_terms = '|'.join(exact_match_terms_list)\n",
    "#exact_match_terms\n",
    "\n",
    "\n",
    "search_terms2 = (\n",
    "    df1\n",
    "    .where(f.lower(f.col('texting')).rlike(exact_match_terms))\n",
    "    )\n",
    "\n",
    "n_terms_exact_match = search_terms2.count()\n",
    "\n",
    "\n",
    "search_terms2.show(truncate=False)\n",
    "print(f\"Number of rows: {n_terms_exact_match}\")\n"
   ]
  },
  {
   "cell_type": "code",
   "execution_count": 13,
   "metadata": {},
   "outputs": [
    {
     "name": "stdout",
     "output_type": "stream",
     "text": [
      "+---+----------+------+--------------------+----------+\n",
      "| id|      town|salary|             texting|start_week|\n",
      "+---+----------+------+--------------------+----------+\n",
      "|190|    Leiden|  2166|      I like my ring|   2019_01|\n",
      "|904|     Delft|  2921|I need some fresh...|   2019_32|\n",
      "|242|Amersfoort|  2635|I am browsing the...|   2019_25|\n",
      "|102|    Leiden|  4907|I would love to sing|   2019_18|\n",
      "|490|   Woerden|  1778|I need a new hair...|   2019_37|\n",
      "| 70| Dordrecht|  5500|I love to sing in...|   2019_14|\n",
      "+---+----------+------+--------------------+----------+\n",
      "\n",
      "Number of rows: 6\n"
     ]
    }
   ],
   "source": [
    "#search for strings that start with the letter 'i'\n",
    "\n",
    "term_i = '^i\\\\b'\n",
    "\n",
    "search_terms3 = (\n",
    "    df1\n",
    "    .where(f.lower(f.col('texting')).rlike(term_i))\n",
    "    )\n",
    "\n",
    "\n",
    "n_terms_i = search_terms3.count()\n",
    "\n",
    "\n",
    "search_terms3.show()\n",
    "print(f\"Number of rows: {n_terms_i}\")\n"
   ]
  },
  {
   "cell_type": "markdown",
   "metadata": {},
   "source": [
    "### Pivot tables"
   ]
  },
  {
   "cell_type": "code",
   "execution_count": 14,
   "metadata": {},
   "outputs": [
    {
     "name": "stdout",
     "output_type": "stream",
     "text": [
      "+---+---+---+---+---+\n",
      "| id|  1|  2|  3|  4|\n",
      "+---+---+---+---+---+\n",
      "|101| 23| 45| 67| 78|\n",
      "|100| 23| 45| 67| 78|\n",
      "|102| 23| 45| 67| 78|\n",
      "+---+---+---+---+---+\n",
      "\n"
     ]
    }
   ],
   "source": [
    "pivot_data = (\n",
    "    df2\n",
    "    .groupBy(\"id\") \n",
    "    .pivot(\"day\") \n",
    "    .agg(f.first(\"price\")) \n",
    "    )\n",
    "    \n",
    "pivot_data.show()\n",
    "\n"
   ]
  },
  {
   "cell_type": "code",
   "execution_count": null,
   "metadata": {},
   "outputs": [],
   "source": []
  }
 ],
 "metadata": {
  "kernelspec": {
   "display_name": "Python 3",
   "language": "python",
   "name": "python3"
  },
  "language_info": {
   "codemirror_mode": {
    "name": "ipython",
    "version": 3
   },
   "file_extension": ".py",
   "mimetype": "text/x-python",
   "name": "python",
   "nbconvert_exporter": "python",
   "pygments_lexer": "ipython3",
   "version": "3.8.5"
  }
 },
 "nbformat": 4,
 "nbformat_minor": 4
}
